{
 "cells": [
  {
   "cell_type": "code",
   "execution_count": 102,
   "metadata": {},
   "outputs": [],
   "source": [
    "\"\"\" Basic imports and configurations for efficient numerical calculations and beautiful plots.\n",
    "\"\"\"\n",
    "\n",
    "# Imports from __future__ in case we're running Python 2\n",
    "from __future__ import division, print_function\n",
    "from __future__ import absolute_import, unicode_literals\n",
    "\n",
    "# Our numerical workhorses\n",
    "import numpy as np\n",
    "# import scipy.integrate\n",
    "\n",
    "# Import pyplot for plotting\n",
    "import matplotlib.pyplot as plt\n",
    "from ipywidgets import widgets\n",
    "\n",
    "# Seaborn, useful for graphics\n",
    "import seaborn as sns\n",
    "\n",
    "# Magic function to make matplotlib inline; other style specs must come AFTER\n",
    "%matplotlib inline\n",
    "\n",
    "# This enables SVG graphics inline.  There is a bug, so uncomment if it works.\n",
    "%config InlineBackend.figure_formats = {'svg',}\n",
    "\n",
    "# This enables high resolution PNGs. SVG is preferred, but has problems\n",
    "# rendering vertical and horizontal lines\n",
    "%config InlineBackend.figure_formats = {'png', 'retina'}\n",
    "\n",
    "rc = {'lines.linewidth': 2, \n",
    "      'axes.labelsize': 18, \n",
    "      'axes.titlesize': 18, \n",
    "      'axes.facecolor': 'DFDFE5',\n",
    "      'axes.autolimit_mode': 'round_numbers'}\n",
    "sns.set_context('notebook', rc=rc)\n",
    "sns.set_style('darkgrid', rc=rc)\n",
    "\n"
   ]
  },
  {
   "cell_type": "code",
   "execution_count": 115,
   "metadata": {},
   "outputs": [],
   "source": [
    "class Speaker(object):\n",
    "    def __init__(self, params):\n",
    "        self.name = params.get('name')  # Name for speaker parameter set\n",
    "        self.sensitivity = params.get('sensitivity')  # sensitivity of the speaker, SPL at 1 meter for an input of 1 watt\n",
    "        \n",
    "        # fundamental parameters\n",
    "        self.sd = params.get('sd')  # driver diaphragm area in square meters\n",
    "        self.mms = params.get('mms')  # driver mass\n",
    "        self.cms = params.get('cms')  # driver compliance\n",
    "        self.rms = params.get('rms')  # mechanical resistance\n",
    "        self.re = params.get('re')  # driver impedance in ohm\n",
    "        self.le = params.get('le')  # voice coil inductance\n",
    "        self.bl = params.get('bl')  # driver magnetic field strength\n",
    "        self.vas = params.get('vas')  # volume of air necessary for equal compliance as CMS\n",
    "        \n",
    "        # small parameters\n",
    "        self.fs = params.get('fs')  # resonance frequency\n",
    "        self.qts = params.get('qts')  # overall quality factor\n",
    "        self.qms = params.get('qms')  # mechanical quality factor\n",
    "        self.qes = params.get('qes')  # electrical quality factor\n",
    "        \n",
    "        # large parameters\n",
    "        self.vd = params.get('vd')  # peak displacement volume\n",
    "        self.xmax = params.get('xmax')  # max driver excursion in millimeters\n",
    "        \n",
    "    \n",
    "    def __repr__(self):\n",
    "        return '\\n'.join(item+': '+str(self.__dict__[item]) for item in self.__dict__)\n",
    "            \n",
    "def fs(mms, cms):\n",
    "    \"\"\" Resonance frequency is inversely proportional to diaphragm's mass and suspension's compliance.\n",
    "    mms = driver mass in gramm\n",
    "    cms = driver compliance in mm/N\n",
    "    \"\"\"\n",
    "    return 1. / (2. * np.pi * np.sqrt(mms * cms))\n",
    "\n",
    "\n",
    "def qts(qms, qes):\n",
    "    \"\"\" Quality factors are calculated from their mechanical and electrical inverse.\n",
    "    \"\"\"\n",
    "    return 1. / (1. / qms + 1. / qes)\n",
    "\n",
    "\n",
    "def qms(qts, qes):\n",
    "    return 1. / (1. / qts - 1. / qes)\n",
    "\n",
    "\n",
    "def qes(qts, qms):\n",
    "    return 1. / (1. / qts - 1. / qms)\n",
    "\n",
    "\n",
    "def vas(cms, sd):\n",
    "    \"\"\" Calculate VAS from driver compliance and diaphragm diameter.\n",
    "    Return volume in cubic meters, multiply by 1000 to get litres\n",
    "    \"\"\"\n",
    "    air_density = 1.184 # k/m^3 at 25°C\n",
    "    speed_sound = 346.1 # m/s at 25°C\n",
    "    return air_density * speed_sound**2 * cms * sd**2\n",
    "\n",
    "\n",
    "def calc_params(speaker_params):\n",
    "    \"\"\"Calculates system parameters from physical parameters.\n",
    "    \"\"\"\n",
    "    p = speaker_params\n",
    "\n",
    "    p.qes = qes(p.qts, p.qms)\n",
    "    p.qms = qms(p.qts, p.qes)\n",
    "    p.qts = qts(p.qms, p.qes)\n",
    "    \n",
    "    p.rms = p.bl**2 / (p.qms / p.qes * p.re)\n",
    "    \n",
    "    p.cms = 1. / 2. / np.pi / p.fs / p.qms / p.rms  # * 1000\n",
    "    p.mms = 1. / (p.cms * (2. * np.pi * p.fs)**2)  # * 1000  # grams\n",
    "    p.fs = fs(p.mms, p.cms)\n",
    "    p.sd = p.sd/1000\n",
    "    p.vas = vas(p.cms, p.sd)\n",
    "    \n",
    "\n",
    "    \n",
    "def calc_sensitivity(speaker_params):\n",
    "    p = speaker_params\n",
    "    \n",
    "    p.sensitivity = p.sd**2 * 1.184 / 346.1 / 2. / np.pi / p.re / (p.mms / p.bl ** 2) ** 2 / p.bl ** 2\n",
    "\n",
    "\n",
    "\n",
    "def calculate_impedance(speaker_params, v_box=np.inf, l_over_a=np.inf):\n",
    "    \"\"\"Calculate impedance magnitude, impedance phase, SPL magnitude,\n",
    "    acoustic output phase, and acoustic output group delay.\n",
    "    \n",
    "    Code for calculations of transferfunction and pre-calculations from\n",
    "    Scott Howard's https://github.com/maqifrnswa/scimpy\n",
    "    \n",
    "    l_over_a = Port/Vent Length to Area Ratio\n",
    "    v_box = \"Box Volume\"\n",
    "    \"\"\"\n",
    "    p = speaker_params\n",
    "    \n",
    "    res = p.bl**2 / p.rms\n",
    "    les = p.bl**2 * p.cms\n",
    "    ces = p.mms / p.bl**2\n",
    "    leb = p.bl**2 / p.sd**2 * v_box / (1.184 * 346.1**2)\n",
    "    cev = p.sd**2 / p.bl**2 * 1.184 * l_over_a\n",
    "    \n",
    "    omega = np.logspace(1.3, 4.3, 1000) * 2. * np.pi\n",
    "    zvc = p.le * (omega * 1j)  # ** n_ = 1 anyway\n",
    "    re_ = p.re + zvc.real  # freq. dependent resistance\n",
    "    le_ = zvc.imag/omega  # freq. dependent inductance\n",
    "    \n",
    "    y_acoustic = -1j / (leb * omega - 1. / (omega * cev))  # Ya = 1/ Za\n",
    "    z_mech = (1. / res + 1 / (omega * les * 1j) + omega * ces * 1j + y_acoustic)**(-1)\n",
    "    z_total = z_mech + re_ + 1j * omega * le_\n",
    "\n",
    "    transferfunc = 1j * (omega * z_mech / z_total) * re_ * ces\n",
    "    if l_over_a != np.inf:\n",
    "        transferfunc = transferfunc * (1j * omega * leb) / (1j * omega * leb + 1. / (1j * omega * cev))\n",
    "\n",
    "    freqs = omega / 2. / np.pi\n",
    "    imp_magnitude = np.abs(z_total)\n",
    "    imp_phase = np.angle(z_total) * 180. / np.pi\n",
    "    \n",
    "    efficiency = (p.sd**2 * 1.184 / 346.1 / 2. / np.pi / p.re / ces**2 / p.bl**2) * np.abs(transferfunc)**2\n",
    "    power_spl = 112.1 + 10. * np.log10(efficiency)\n",
    "    \n",
    "    return {'omega': omega, 'power_spl': power_spl}\n",
    "\n",
    "        \n",
    "\n",
    "def spl_response(speaker_params):\n",
    "    \"\"\" Return the simulated pressure response of a speaker,\n",
    "    given its parameters, the frequency space and the resolution of simulation steps.\n",
    "    \n",
    "    Pressure is proportional to driver velocity and frequency.\n",
    "    \"\"\"\n",
    "    \n",
    "    calculate_impedance()\n",
    "    \n",
    "   \n",
    "    \n",
    "def f_c(vas, v_box):\n",
    "    \"\"\" Calculate the resonance frequency in a sealed enclosure volume.\n",
    "    \"\"\"\n",
    "    return np.sqrt(vas / (v_box-1))\n",
    "\n"
   ]
  },
  {
   "cell_type": "code",
   "execution_count": 116,
   "metadata": {
    "scrolled": false
   },
   "outputs": [
    {
     "name": "stdout",
     "output_type": "stream",
     "text": [
      "qts: 0.33\n",
      "rms: 0.453291021928\n",
      "le: 0.0398\n",
      "vd: None\n",
      "name: Fostex FE103En\n",
      "bl: 4.99\n",
      "sensitivity: 89.0\n",
      "mms: 0.00238768931538\n",
      "re: 7.5\n",
      "qes: 0.375055854365\n",
      "fs: 83.0\n",
      "xmax: 0.6\n",
      "vas: 0.546010723443\n",
      "cms: 0.00153994873194\n",
      "qms: 2.747\n",
      "sd: 0.05\n"
     ]
    },
    {
     "data": {
      "text/plain": [
       "(20, 20000)"
      ]
     },
     "execution_count": 116,
     "metadata": {},
     "output_type": "execute_result"
    },
    {
     "data": {
      "image/png": "[encoded data removed]",
      "text/plain": [
       "<matplotlib.figure.Figure at 0x10f13d650>"
      ]
     },
     "metadata": {
      "image/png": {
       "height": 380,
       "width": 508
      }
     },
     "output_type": "display_data"
    }
   ],
   "source": [
    "# test speaker setup\n",
    "fe103en = {\n",
    "    'name': 'Fostex FE103En',\n",
    "    'sensitivity': 89., \n",
    "    'sd': 50.,\n",
    "    'mms': 25.5,\n",
    "    'cms': 1.65,\n",
    "    'rms': None,\n",
    "    're': 7.5,\n",
    "    'le': 0.0398,\n",
    "    'bl': 4.99,\n",
    "    'vas': 5.95,\n",
    "    'fs': 83.,\n",
    "    'qts': 0.33,\n",
    "    'qes': 0.377,\n",
    "    'qms': 2.747,\n",
    "    'vd': None,\n",
    "    'xmax': 0.6\n",
    "}\n",
    "\n",
    "alpha15 = {\n",
    "    'name': 'Eminence Alpha 15',\n",
    "    'sensitivity': 97., \n",
    "    'sd': 856.3,\n",
    "    'mms': 59.,\n",
    "    'cms': 0.25,\n",
    "    're': 5.88,\n",
    "    'le': 0.84,\n",
    "    'bl': 7.7,\n",
    "    'vas': 260.,\n",
    "    'fs': 41.,\n",
    "    'qts': 1.26,\n",
    "    'qes': 1.53,\n",
    "    'qms': 7.23,\n",
    "    'rms': None\n",
    "}\n",
    "\n",
    "speaker = Speaker(fe103en)\n",
    "# fill up missing parameters if possible\n",
    "calc_params(speaker)\n",
    "\n",
    "print(speaker)\n",
    "\n",
    "r_ = calculate_impedance(speaker, v_box=60., l_over_a=0.3)\n",
    "\n",
    "fig = plt.figure()\n",
    "ax_power = fig.add_subplot(111, title=\"Speaker SPL\")\n",
    "ax_power.plot(r_['omega'] / 2. / np.pi, r_['power_spl'])\n",
    "ax_power.set_ylabel('SPL (dB 1W1m)')\n",
    "ax_power.set_xlabel('Frequency (Hz)')\n",
    "ax_power.set_xscale('log')\n",
    "ax_power.set_xlim([20, 20000])"
   ]
  },
  {
   "cell_type": "markdown",
   "metadata": {
    "collapsed": true
   },
   "source": []
  },
  {
   "cell_type": "code",
   "execution_count": null,
   "metadata": {},
   "outputs": [],
   "source": []
  }
 ],
 "metadata": {
  "kernelspec": {
   "display_name": "Python 2",
   "language": "python",
   "name": "python2"
  },
  "language_info": {
   "codemirror_mode": {
    "name": "ipython",
    "version": 2
   },
   "file_extension": ".py",
   "mimetype": "text/x-python",
   "name": "python",
   "nbconvert_exporter": "python",
   "pygments_lexer": "ipython2",
   "version": "2.7.14"
  },
  "widgets": {
   "state": {
    "0291d0c6d23e4bb6be024098b6c41f28": {
     "views": []
    },
    "0586e574579d499db6c46947fe680464": {
     "views": []
    },
    "2b5fd47af0ed46948fe54dc86b1ee969": {
     "views": []
    },
    "2e1972791c824f1e953d5a19f9b812ac": {
     "views": []
    },
    "30d19b7343e74f6793849d1acedc4f5c": {
     "views": []
    },
    "4db4baea3e4e4ef58db93537a629deb7": {
     "views": []
    },
    "5a7d6ce007574a768e5d518d2ba0c1b9": {
     "views": []
    },
    "758c0b57a77c42f59a4fb58182fe14f2": {
     "views": []
    },
    "7d68b1d3a2e94a37925c065ac87abdf6": {
     "views": []
    },
    "80fb03019317455183c65531c86cf18b": {
     "views": []
    },
    "84ab6b30dc8c4a60aeef2d9b63b4c6b2": {
     "views": []
    },
    "84e0b07f33c241b3bd7bd59e3c4779ea": {
     "views": []
    },
    "994d8c401fbd4703a774a74658eed4da": {
     "views": []
    },
    "9e37c33aa78345e9a432846647686ad5": {
     "views": []
    },
    "a0e8230d6b404860afcc95cc061354d0": {
     "views": []
    },
    "a3f0c10eb6784a08b1d7aeacfa97e98a": {
     "views": []
    },
    "ad3db57d9be649bc87d7101963513592": {
     "views": []
    },
    "b6dfa59cea8f4090b63df690536a2e1b": {
     "views": []
    },
    "bf1bd75771454ea5ad5084e114997ea4": {
     "views": []
    },
    "c13e8cfd740e4df5b624d181b2dede11": {
     "views": []
    },
    "c5150cdb53504e21bba35b022243a722": {
     "views": []
    },
    "d7233fa0a8484ca886e768b8cf009ef4": {
     "views": []
    },
    "e565e051179341c7911943af5a8ecab4": {
     "views": []
    },
    "e6e32ce0c95244bdbc772ce9dd4310f7": {
     "views": []
    },
    "e834358f1db746a890eefdd1fa6a1032": {
     "views": []
    },
    "f44bfa1a0c98467496575ec43ece9dc8": {
     "views": []
    },
    "f669cc90032b4c138a8b7e99e3a2257a": {
     "views": []
    },
    "f84cda702e084a92a94aebe5e6f56efb": {
     "views": []
    }
   },
   "version": "1.1.2"
  }
 },
 "nbformat": 4,
 "nbformat_minor": 1
}
